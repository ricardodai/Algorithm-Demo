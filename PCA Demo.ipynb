{
 "cells": [
  {
   "cell_type": "markdown",
   "metadata": {},
   "source": [
    "## Principle Component Analysis\n",
    "\n",
    "PCA is a classcical approach to achieve dimension reduction. It uses orthogonal transformation to transfer original data into linear independent(uncorrelated) data points. The basic idea is to choose linearly independent principle components or features so that data points have the highest possible variance. (higher variance indicates the significance of the component)\n",
    "\n",
    "Precedure:\n",
    "1. If we have x data points with y features, transform them into a $x*y$ matrix X.\n",
    "2. Subtract mean of data on each feature to center the data around the origin.\n",
    "3. Calculate the covariance matrix(the diagonal elements are variances and other elements are covarianes): $(C*C^T)/x$\n",
    "4. Diagonalize the covariance matrix C: sort n eigenvectors of C in a vector A (with n rows) according to n largest eigenvalues. Then A is the linear transformation that diagonalizes C. (Choose n largest largest eigenvalues to reduce dimension to n)\n",
    "5. Y is the output with dimension n: Y=AX"
   ]
  },
  {
   "cell_type": "code",
   "execution_count": 1,
   "metadata": {},
   "outputs": [],
   "source": [
    "import numpy as np\n",
    "import random as rd"
   ]
  },
  {
   "cell_type": "code",
   "execution_count": 2,
   "metadata": {},
   "outputs": [],
   "source": [
    "# Data Preparation (1000 datapoints with 5 features)\n",
    "data=[]\n",
    "for i in range(1000):\n",
    "    data1=[]\n",
    "    for i in range(5):\n",
    "        data1.append(rd.randrange(0,1000))\n",
    "    data.append(data1)    \n",
    "\n",
    "dataset=np.mat(data) # Step 1"
   ]
  },
  {
   "cell_type": "code",
   "execution_count": 3,
   "metadata": {},
   "outputs": [
    {
     "data": {
      "text/plain": [
       "matrix([[618, 533, 800, 515, 597],\n",
       "        [261, 184,  39, 463, 748],\n",
       "        [501, 408, 270, 417, 641],\n",
       "        ...,\n",
       "        [198, 338, 352, 904,  26],\n",
       "        [483, 263,  18, 856, 769],\n",
       "        [264, 369, 583, 286, 607]])"
      ]
     },
     "execution_count": 3,
     "metadata": {},
     "output_type": "execute_result"
    }
   ],
   "source": [
    "dataset"
   ]
  },
  {
   "cell_type": "code",
   "execution_count": 4,
   "metadata": {},
   "outputs": [],
   "source": [
    "def PCA (data_input, target_dimension):\n",
    "    \n",
    "    Standardized_dataset=data_input-np.mean(data_input,axis=0) # Step 2\n",
    "    Covariance_matrix=np.cov(Standardized_dataset, rowvar=0) # Step 3\n",
    "    Eigen_values, Eigen_vectors = np.linalg.eig(np.mat(Covariance_matrix)) # Calculate Eigenvalues and Eigenvectors\n",
    "    Sorted_index = np.argsort(Eigen_values)[::-1][:target_dimension]  # Step 4\n",
    "    Principal_Components = Eigen_vectors[:, Sorted_index]\n",
    "    data_output = data_input*Principal_Components   # transform data into new dimensions\n",
    "    print (Principal_Components)\n",
    "    return data_output"
   ]
  },
  {
   "cell_type": "code",
   "execution_count": 14,
   "metadata": {},
   "outputs": [
    {
     "name": "stdout",
     "output_type": "stream",
     "text": [
      "[[-0.50661826 -0.4048483   0.1228957 ]\n",
      " [-0.06072292 -0.62905902  0.33698531]\n",
      " [ 0.53293622 -0.48626836  0.27840452]\n",
      " [ 0.09972926 -0.44255239 -0.890296  ]\n",
      " [ 0.66759548  0.08985023  0.03466268]]\n"
     ]
    },
    {
     "data": {
      "text/plain": [
       "matrix([[  214.6460844 ,  -940.79813714,  -211.72432629],\n",
       "        [   62.37464598,  -987.12497452,  -203.04666044],\n",
       "        [  131.9846144 , -1076.13761916,   354.09278323],\n",
       "        ...,\n",
       "        [  588.5907383 ,  -580.75246291,  -449.93421729],\n",
       "        [  128.42941207,  -771.598543  ,   -27.55315211],\n",
       "        [  251.57967284,  -618.01705297,   -33.97749024]])"
      ]
     },
     "execution_count": 14,
     "metadata": {},
     "output_type": "execute_result"
    }
   ],
   "source": [
    "PCA(dataset,3)"
   ]
  },
  {
   "cell_type": "code",
   "execution_count": null,
   "metadata": {},
   "outputs": [],
   "source": []
  }
 ],
 "metadata": {
  "kernelspec": {
   "display_name": "Python 3",
   "language": "python",
   "name": "python3"
  },
  "language_info": {
   "codemirror_mode": {
    "name": "ipython",
    "version": 3
   },
   "file_extension": ".py",
   "mimetype": "text/x-python",
   "name": "python",
   "nbconvert_exporter": "python",
   "pygments_lexer": "ipython3",
   "version": "3.6.5"
  }
 },
 "nbformat": 4,
 "nbformat_minor": 2
}
