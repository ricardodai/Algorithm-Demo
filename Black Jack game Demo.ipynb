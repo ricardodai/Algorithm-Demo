{
 "cells": [
  {
   "cell_type": "code",
   "execution_count": 1,
   "metadata": {},
   "outputs": [],
   "source": [
    "# Blackjack Game Design"
   ]
  },
  {
   "cell_type": "code",
   "execution_count": 2,
   "metadata": {},
   "outputs": [],
   "source": [
    "import random\n",
    "from IPython.display import clear_output"
   ]
  },
  {
   "cell_type": "code",
   "execution_count": 3,
   "metadata": {},
   "outputs": [],
   "source": [
    "Suite=['Heart','Spade','Diamonds','Clubs']\n",
    "Number=['Ace','Two','Three','Four','Five','Six','Seven','Eight','Nine','Ten','Jack','Queen','King']\n",
    "Value={'Ace':1,'Two':2,'Three':3,'Four':4,'Five':5,'Six':6,'Seven':7,'Eight':8,'Nine':9,'Ten':10,'Jack':10,'Queen':10,'King':10}"
   ]
  },
  {
   "cell_type": "code",
   "execution_count": 4,
   "metadata": {},
   "outputs": [],
   "source": [
    "\n",
    "deck=[]\n",
    "for i in Suite:\n",
    "    for j in Number:\n",
    "        deck.append(j+' of '+i)\n",
    "        \n",
    "def deal(x,y):\n",
    "    random.shuffle(x)\n",
    "    y.append(x.pop())\n",
    "    \n",
    "def value_count(x):\n",
    "    total=0\n",
    "    for i in x:\n",
    "        total+=Value[i.split()[0]]\n",
    "    return total\n",
    "\n",
    "def win_check(x,y):\n",
    "    if value_count(x)>value_count(y):\n",
    "        if value_count(x)==21:\n",
    "            print('Blackjack!! You win the game!')\n",
    "        else:\n",
    "            print('You win the game!')\n",
    "    elif value_count(x)<value_count(y):\n",
    "        if value_count(y)==21:\n",
    "            print('Blackjack!! You lose, Dealer wins the game!')\n",
    "        else:\n",
    "            print('You lose, Dealer wins the game!')\n",
    "    else:\n",
    "        print('Push!')\n",
    "\n",
    "\n",
    "def bust_check(x):\n",
    "    if value_count(x)>21:\n",
    "        bust=True\n",
    "        if x==player_hand:\n",
    "            print('You lose, you have busted!')\n",
    "        else:\n",
    "            print('You win, Dealer has busted!')\n",
    "\n"
   ]
  },
  {
   "cell_type": "code",
   "execution_count": null,
   "metadata": {},
   "outputs": [
    {
     "name": "stdout",
     "output_type": "stream",
     "text": [
      "Your hand is ['Ten of Diamonds', 'Three of Heart']\n",
      "Deal's hand is Two of Diamonds\n",
      "Your balance is 1000\n"
     ]
    }
   ],
   "source": [
    "print('Welcome to the Blackjack game')\n",
    "dealer_account=1000\n",
    "player_account=1000\n",
    "while True:\n",
    "\n",
    "    player_hand=[]\n",
    "    dealer_hand=[]\n",
    "\n",
    "\n",
    "    if input('Do you want to play?') =='yes':  \n",
    "        clear_output()\n",
    "        deal(deck,player_hand)\n",
    "        deal(deck,player_hand)\n",
    "        deal(deck,dealer_hand)\n",
    "        deal(deck,dealer_hand)\n",
    "        print('Your hand is {}'.format(player_hand))\n",
    "        print(\"Deal's hand is {}\".format(dealer_hand[0]))\n",
    "        while True:\n",
    "            print('Your balance is {}'.format(player_account))\n",
    "            bet=int(input('How much you want to bet with the dealer?'))\n",
    "            if bet<=player_account and bet <= dealer_account:\n",
    "                break\n",
    "            else:\n",
    "                print('You dont have enough money, loser!')\n",
    "        \n",
    "        playing=True\n",
    "    else:\n",
    "        print('Fuck you')\n",
    "        playing=False\n",
    "\n",
    "    while playing:\n",
    "    \n",
    "        answer=input('Do you want to stand or hit?')\n",
    "    \n",
    "        if answer=='hit':\n",
    "            deal(deck,player_hand)\n",
    "            print('Your hand is {}'.format(player_hand))\n",
    "            bust_check(player_hand)\n",
    "            if value_count(player_hand)>21:\n",
    "                playing=False\n",
    "                dealer_account+=bet\n",
    "                player_account-=bet\n",
    "                print(\"Your balance is {}, Dealer's balance is {}\".format(player_account,dealer_account))\n",
    "        \n",
    "        if answer=='stand':\n",
    "            while value_count(dealer_hand)<=17:\n",
    "                deal(deck,dealer_hand)\n",
    "                bust_check(dealer_hand)\n",
    "                if value_count(dealer_hand)>21:\n",
    "                    print('Dealer has {}'.format(dealer_hand))\n",
    "                    dealer_account-=bet\n",
    "                    player_account+=bet\n",
    "                    print(\"Your balance is {}, Dealer's balance is {}\".format(player_account,dealer_account))\n",
    "                    playing=False\n",
    "            \n",
    "            if playing==True:\n",
    "                print('Dealer has {}'.format(dealer_hand))\n",
    "            if value_count(dealer_hand)<=21:\n",
    "                win_check(player_hand,dealer_hand)\n",
    "                if value_count(dealer_hand)>value_count(player_hand):\n",
    "                    dealer_account+=bet\n",
    "                    player_account-=bet\n",
    "                if value_count(dealer_hand)<value_count(player_hand):\n",
    "                    dealer_account-=bet\n",
    "                    player_account+=bet\n",
    "                print(\"Your balance is {}, Dealer's balance is {}\".format(player_account,dealer_account))\n",
    "            playing=False\n",
    "            \n",
    "    if player_account==0:\n",
    "        print('you lose it all')\n",
    "    if  dealer_account==0:\n",
    "        print('Winner Winner, Chicken Dinner!')\n",
    "        \n",
    "        break"
   ]
  },
  {
   "cell_type": "code",
   "execution_count": null,
   "metadata": {},
   "outputs": [],
   "source": []
  }
 ],
 "metadata": {
  "kernelspec": {
   "display_name": "Python 3",
   "language": "python",
   "name": "python3"
  },
  "language_info": {
   "codemirror_mode": {
    "name": "ipython",
    "version": 3
   },
   "file_extension": ".py",
   "mimetype": "text/x-python",
   "name": "python",
   "nbconvert_exporter": "python",
   "pygments_lexer": "ipython3",
   "version": "3.6.5"
  }
 },
 "nbformat": 4,
 "nbformat_minor": 2
}
